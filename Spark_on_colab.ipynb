{
  "nbformat": 4,
  "nbformat_minor": 0,
  "metadata": {
    "colab": {
      "provenance": []
    },
    "kernelspec": {
      "name": "python3",
      "display_name": "Python 3"
    },
    "language_info": {
      "name": "python"
    }
  },
  "cells": [
    {
      "cell_type": "markdown",
      "source": [
        "#Download and install Apache Spark"
      ],
      "metadata": {
        "id": "FiZ_Lp-VAQSD"
      }
    },
    {
      "cell_type": "code",
      "execution_count": 1,
      "metadata": {
        "id": "6wBl2NWn_2vV",
        "colab": {
          "base_uri": "https://localhost:8080/"
        },
        "outputId": "f74bd559-0a3e-45cb-ca38-7bd712711a92"
      },
      "outputs": [
        {
          "output_type": "stream",
          "name": "stdout",
          "text": [
            "--2023-06-05 07:54:05--  https://dlcdn.apache.org/spark/spark-3.4.0/spark-3.4.0-bin-hadoop3.tgz\n",
            "Resolving dlcdn.apache.org (dlcdn.apache.org)... 151.101.2.132, 2a04:4e42::644\n",
            "Connecting to dlcdn.apache.org (dlcdn.apache.org)|151.101.2.132|:443... connected.\n",
            "HTTP request sent, awaiting response... 200 OK\n",
            "Length: 388407094 (370M) [application/x-gzip]\n",
            "Saving to: ‘spark-3.4.0-bin-hadoop3.tgz.1’\n",
            "\n",
            "spark-3.4.0-bin-had 100%[===================>] 370.41M  67.3MB/s    in 3.9s    \n",
            "\n",
            "2023-06-05 07:54:09 (94.8 MB/s) - ‘spark-3.4.0-bin-hadoop3.tgz.1’ saved [388407094/388407094]\n",
            "\n"
          ]
        }
      ],
      "source": [
        "!wget https://dlcdn.apache.org/spark/spark-3.4.0/spark-3.4.0-bin-hadoop3.tgz\n",
        "#unzip the compressed file\n",
        "!tar xf spark-3.4.0-bin-hadoop3.tgz"
      ]
    },
    {
      "cell_type": "code",
      "source": [
        "#install findspark\n",
        "!pip install findspark"
      ],
      "metadata": {
        "id": "NDoCXwEMes2b",
        "colab": {
          "base_uri": "https://localhost:8080/"
        },
        "outputId": "a3e317e4-7808-405c-c3d1-7f88b62f5efb"
      },
      "execution_count": 2,
      "outputs": [
        {
          "output_type": "stream",
          "name": "stdout",
          "text": [
            "Looking in indexes: https://pypi.org/simple, https://us-python.pkg.dev/colab-wheels/public/simple/\n",
            "Requirement already satisfied: findspark in /usr/local/lib/python3.10/dist-packages (2.0.1)\n"
          ]
        }
      ]
    },
    {
      "cell_type": "code",
      "source": [
        "#Setup environment\n",
        "import os\n",
        "os.environ[\"JAVA_HOME\"] = \"/usr/lib/jvm/java-11-openjdk-amd64\"\n",
        "os.environ[\"SPARK_HOME\"] = \"/content/spark-3.4.0-bin-hadoop3\""
      ],
      "metadata": {
        "id": "va2OIN8vA0co"
      },
      "execution_count": 3,
      "outputs": []
    },
    {
      "cell_type": "code",
      "source": [
        "#Initialize Spark\n",
        "import findspark\n",
        "findspark.init()\n",
        "from pyspark.sql import SparkSession"
      ],
      "metadata": {
        "id": "Q1nibW0hBvB3"
      },
      "execution_count": 4,
      "outputs": []
    },
    {
      "cell_type": "code",
      "source": [
        "#Create the SparkSession object\n",
        "spark = SparkSession.builder \\\n",
        "    .appName(\"RandomUserDataFrame\") \\\n",
        "    .getOrCreate()"
      ],
      "metadata": {
        "id": "r2_NOnTMDg5K"
      },
      "execution_count": 5,
      "outputs": []
    },
    {
      "cell_type": "markdown",
      "source": [
        "#Generate a random user dataset"
      ],
      "metadata": {
        "id": "cBm0iH7HEJ-t"
      }
    },
    {
      "cell_type": "markdown",
      "source": [
        "##User dataframe"
      ],
      "metadata": {
        "id": "EmoyOciDOylY"
      }
    },
    {
      "cell_type": "code",
      "source": [
        "from pyspark.sql.functions import rand, randn, when, floor, round\n",
        "from pyspark.sql.types import StructType, StructField, IntegerType, StringType\n",
        "import random\n",
        "\n",
        "def generate_users_dataset(nbr_users):\n",
        "  # Define the user dataframe's schema\n",
        "  schema = StructType([\n",
        "      StructField('user_id', IntegerType(), True),\n",
        "      StructField('user_age', IntegerType(), True),\n",
        "      StructField('user_sex', StringType(), True),\n",
        "      StructField('user_region', StringType(), True),\n",
        "      StructField('user_income', IntegerType(), True),\n",
        "  ])\n",
        "\n",
        "  #Define the region data\n",
        "  regions = ['East', 'West', 'North', 'South', 'Northeast', 'Southeast', 'Northwest', 'Southwest']\n",
        "\n",
        "  # Generate user columns\n",
        "  df = spark.range(0, nbr_users) \\\n",
        "      .withColumn('user_id', (floor(rand() * 90000000) + 10000000)) \\\n",
        "      .withColumn('user_age', (randn() * 10 + 30).cast(IntegerType())) \\\n",
        "      .withColumn('user_sex', when(rand() < 0.5, 'Male').otherwise('Female')) \\\n",
        "      .withColumn('user_region', when(rand() < 0.5, regions[0])\n",
        "                            .when(rand() < 0.6, regions[1])\n",
        "                            .when(rand() < 0.7, regions[2])\n",
        "                            .when(rand() < 0.8, regions[3])\n",
        "                            .when(rand() < 0.8, regions[4])\n",
        "                            .when(rand() < 0.8, regions[5])\n",
        "                            .when(rand() < 0.8, regions[6])\n",
        "                            .otherwise(regions[7])) \\\n",
        "      .withColumn('user_income', (randn() * 10000 + 50000).cast(IntegerType())) \\\n",
        "      .select('user_id', 'user_age', 'user_sex', 'user_region','user_income')\n",
        "  return df\n",
        "\n",
        "\n",
        "user_dataframe = generate_users_dataset(10000)\n",
        "user_dataframe.show()"
      ],
      "metadata": {
        "colab": {
          "base_uri": "https://localhost:8080/"
        },
        "id": "cPcW5PK9CFDa",
        "outputId": "eec62358-0f5b-4679-83b4-f689b4e8111d"
      },
      "execution_count": 6,
      "outputs": [
        {
          "output_type": "stream",
          "name": "stdout",
          "text": [
            "+--------+--------+--------+-----------+-----------+\n",
            "| user_id|user_age|user_sex|user_region|user_income|\n",
            "+--------+--------+--------+-----------+-----------+\n",
            "|55147647|      35|  Female|       West|      48445|\n",
            "|84711057|      17|    Male|       East|      26028|\n",
            "|52634332|      29|    Male|       East|      48815|\n",
            "|73382092|      36|    Male|       West|      63689|\n",
            "|92881442|      42|    Male|       East|      38200|\n",
            "|26058944|      12|    Male|      North|      57054|\n",
            "|12258011|      34|    Male|       East|      40727|\n",
            "|60554025|      32|  Female|       East|      56925|\n",
            "|65119333|      40|    Male|       West|      61973|\n",
            "|89570373|      31|    Male|       East|      45085|\n",
            "|10894949|      22|    Male|       East|      70978|\n",
            "|51179911|      24|  Female|       East|      57207|\n",
            "|29571465|      33|  Female|       West|      52364|\n",
            "|97622045|      17|    Male|       East|      44039|\n",
            "|73150237|      39|    Male|      North|      43168|\n",
            "|23860223|      35|  Female|       East|      73111|\n",
            "|53389039|      36|  Female|       East|      52562|\n",
            "|79482057|      25|    Male|       East|      46717|\n",
            "|33629851|      41|  Female|       East|      45347|\n",
            "|71753790|      30|  Female|      North|      52678|\n",
            "+--------+--------+--------+-----------+-----------+\n",
            "only showing top 20 rows\n",
            "\n"
          ]
        }
      ]
    },
    {
      "cell_type": "markdown",
      "source": [
        "##Item dataframe"
      ],
      "metadata": {
        "id": "vpi-C8vVO3Lg"
      }
    },
    {
      "cell_type": "code",
      "source": [
        "def generate_items_dataset(nbr_items):\n",
        "  # Define the item dataframe's schema\n",
        "  item_schema = StructType([\n",
        "      StructField('item_id', IntegerType(), True),\n",
        "      StructField('item_category', StringType(), True),\n",
        "      StructField('item_price', IntegerType(), True)\n",
        "  ])\n",
        "\n",
        "  #Define the category data\n",
        "  categories = ['PC Hardware', 'PC Software', 'Console', 'Smartphone', 'Accessory', 'Other']\n",
        "\n",
        "  # Generate item columns\n",
        "  df = spark.range(0, nbr_items) \\\n",
        "      .withColumn('item_id', (floor(rand() * 90000000) + 10000000)) \\\n",
        "      .withColumn('item_category', when(rand() < 0.5, categories[0])\n",
        "                            .when(rand() < 0.6, categories[1])\n",
        "                            .when(rand() < 0.7, categories[2])\n",
        "                            .when(rand() < 0.8, categories[3])\n",
        "                            .when(rand() < 0.8, categories[4])\n",
        "                            .otherwise(categories[5])) \\\n",
        "      .withColumn('item_price', round(rand() * (500 - 0.1) + 0.1, 2)) \\\n",
        "      .select('item_id', 'item_category', 'item_price')\n",
        "  return df  \n",
        "\n",
        "item_dataframe = generate_items_dataset(500)\n",
        "item_dataframe.show()"
      ],
      "metadata": {
        "colab": {
          "base_uri": "https://localhost:8080/"
        },
        "id": "W4M1hvwJO2JP",
        "outputId": "78d95c05-33c5-432a-aafb-1452dec09c78"
      },
      "execution_count": 7,
      "outputs": [
        {
          "output_type": "stream",
          "name": "stdout",
          "text": [
            "+--------+-------------+----------+\n",
            "| item_id|item_category|item_price|\n",
            "+--------+-------------+----------+\n",
            "|11778083|  PC Hardware|    348.99|\n",
            "|85154949|  PC Hardware|    413.99|\n",
            "|99065176|   Smartphone|    393.47|\n",
            "|94953229|  PC Hardware|    251.35|\n",
            "|71666950|  PC Hardware|    167.94|\n",
            "|22360888|   Smartphone|     242.7|\n",
            "|92978785|  PC Software|    451.82|\n",
            "|82831742|  PC Software|    181.28|\n",
            "|67110562|  PC Hardware|    160.55|\n",
            "|75985073|      Console|    345.29|\n",
            "|13198260|  PC Hardware|    359.16|\n",
            "|79672484|  PC Software|    147.44|\n",
            "|53489111|  PC Hardware|    272.76|\n",
            "|91391541|  PC Hardware|    208.82|\n",
            "|52708859|  PC Software|    333.82|\n",
            "|43320132|      Console|    483.38|\n",
            "|46289723|  PC Hardware|    157.55|\n",
            "|53616257|  PC Software|     68.31|\n",
            "|76472959|  PC Hardware|     79.71|\n",
            "|36575806|  PC Software|    111.46|\n",
            "+--------+-------------+----------+\n",
            "only showing top 20 rows\n",
            "\n"
          ]
        }
      ]
    },
    {
      "cell_type": "markdown",
      "source": [
        "##user-item interaction dataframe"
      ],
      "metadata": {
        "id": "6rYrfoF9XHz4"
      }
    },
    {
      "cell_type": "code",
      "source": [
        "interaction_df = user_dataframe.crossJoin(item_dataframe).sample(False, 0.2)\n",
        "interaction_df.show()"
      ],
      "metadata": {
        "colab": {
          "base_uri": "https://localhost:8080/"
        },
        "id": "q7UHznLyXGLx",
        "outputId": "88b42cac-2385-482b-c774-5351968d10a1"
      },
      "execution_count": 8,
      "outputs": [
        {
          "output_type": "stream",
          "name": "stdout",
          "text": [
            "+--------+--------+--------+-----------+-----------+--------+-------------+----------+\n",
            "| user_id|user_age|user_sex|user_region|user_income| item_id|item_category|item_price|\n",
            "+--------+--------+--------+-----------+-----------+--------+-------------+----------+\n",
            "|55147647|      35|  Female|       West|      48445|11778083|  PC Hardware|    348.99|\n",
            "|55147647|      35|  Female|       West|      48445|22360888|   Smartphone|     242.7|\n",
            "|55147647|      35|  Female|       West|      48445|43320132|      Console|    483.38|\n",
            "|55147647|      35|  Female|       West|      48445|53616257|  PC Software|     68.31|\n",
            "|55147647|      35|  Female|       West|      48445|94270929|  PC Hardware|    265.04|\n",
            "|55147647|      35|  Female|       West|      48445|24560422|      Console|    111.32|\n",
            "|55147647|      35|  Female|       West|      48445|43875032|      Console|    192.47|\n",
            "|55147647|      35|  Female|       West|      48445|77928476|  PC Software|     39.09|\n",
            "|55147647|      35|  Female|       West|      48445|75701715|  PC Software|    254.68|\n",
            "|55147647|      35|  Female|       West|      48445|82530125|  PC Hardware|    314.28|\n",
            "|55147647|      35|  Female|       West|      48445|70640971|  PC Hardware|    248.17|\n",
            "|55147647|      35|  Female|       West|      48445|55677853|  PC Software|    484.35|\n",
            "|55147647|      35|  Female|       West|      48445|66456053|  PC Hardware|     363.1|\n",
            "|55147647|      35|  Female|       West|      48445|24523187|  PC Hardware|    485.39|\n",
            "|55147647|      35|  Female|       West|      48445|78916174|  PC Hardware|    304.65|\n",
            "|55147647|      35|  Female|       West|      48445|58690270|  PC Hardware|    320.11|\n",
            "|55147647|      35|  Female|       West|      48445|95978172|  PC Software|    379.89|\n",
            "|55147647|      35|  Female|       West|      48445|57623941|  PC Hardware|     72.48|\n",
            "|55147647|      35|  Female|       West|      48445|51799032|      Console|     299.2|\n",
            "|55147647|      35|  Female|       West|      48445|22079461|  PC Software|    151.81|\n",
            "+--------+--------+--------+-----------+-----------+--------+-------------+----------+\n",
            "only showing top 20 rows\n",
            "\n"
          ]
        }
      ]
    },
    {
      "cell_type": "markdown",
      "source": [
        "##Export the dataframe into csv file"
      ],
      "metadata": {
        "id": "MLMvJqjndhzw"
      }
    },
    {
      "cell_type": "code",
      "source": [
        "interaction_df.coalesce(1).write.option(\"header\", \"false\").csv(\"user_item_interaction.csv\")"
      ],
      "metadata": {
        "id": "RC22uI2nFYVE"
      },
      "execution_count": 11,
      "outputs": []
    },
    {
      "cell_type": "code",
      "source": [],
      "metadata": {
        "id": "SXtf7FDejd8a"
      },
      "execution_count": null,
      "outputs": []
    }
  ]
}